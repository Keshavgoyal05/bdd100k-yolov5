{
 "cells": [
  {
   "cell_type": "code",
   "execution_count": 1,
   "id": "ac4001cf",
   "metadata": {},
   "outputs": [],
   "source": [
    "import os\n",
    "import cv2\n",
    "import json\n",
    "\n",
    "train_image_folder = '../data/bdd100k_images_100k/bdd100k/images/100k/train'\n",
    "val_image_folder = '../data/bdd100k_images_100k/bdd100k/images/100k/val'\n",
    "train_labels = '../data/bdd100k_labels_release/bdd100k/labels/bdd100k_labels_images_train.json'\n",
    "val_labels = '../data/bdd100k_labels_release/bdd100k/labels/bdd100k_labels_images_val.json'"
   ]
  },
  {
   "cell_type": "code",
   "execution_count": 2,
   "id": "d161fa30",
   "metadata": {},
   "outputs": [],
   "source": [
    "dataset = {\n",
    "    'train': {\n",
    "        'img_dir': '../data/bdd_yolo/train/images',\n",
    "        'json_path': '../data/bdd100k_labels_release/bdd100k/labels/bdd100k_labels_images_train.json',\n",
    "        'label_dir': '../data/bdd_yolo/train/labels'\n",
    "    },\n",
    "    'val': {\n",
    "        'img_dir': '../data/bdd_yolo/val/images',\n",
    "        'json_path': '../data/bdd100k_labels_release/bdd100k/labels/bdd100k_labels_images_val.json',\n",
    "        'label_dir': '../data/bdd_yolo/val/labels'\n",
    "    }\n",
    "}"
   ]
  },
  {
   "cell_type": "code",
   "execution_count": 3,
   "id": "5984c1c7",
   "metadata": {},
   "outputs": [],
   "source": [
    "class_map = {\n",
    "    'pedestrian': 0,\n",
    "    'rider': 1,\n",
    "    'car': 2,\n",
    "    'truck': 3,\n",
    "    'bus': 4,\n",
    "    'train': 5,\n",
    "    'motorcycle': 6,\n",
    "    'bicycle': 7,\n",
    "    'traffic light': 8,\n",
    "    'traffic sign': 9\n",
    "}"
   ]
  },
  {
   "cell_type": "code",
   "execution_count": 4,
   "id": "71f53eda",
   "metadata": {},
   "outputs": [],
   "source": [
    "def convert_and_save(json_path, img_dir, label_dir):\n",
    "    with open(json_path, 'r') as f:\n",
    "        data = json.load(f)\n",
    "\n",
    "    os.makedirs(label_dir, exist_ok=True)\n",
    "\n",
    "    for item in data:\n",
    "        img_name = item['name']\n",
    "        img_path = os.path.join(img_dir, img_name)\n",
    "\n",
    "        if not os.path.exists(img_path):\n",
    "            print(f\"[!] Image not found: {img_path}\")\n",
    "            continue\n",
    "\n",
    "        img = cv2.imread(img_path)\n",
    "        if img is None:\n",
    "            print(f\"[!] Failed to load image: {img_path}\")\n",
    "            continue\n",
    "\n",
    "        h, w = img.shape[:2]\n",
    "        lines = []\n",
    "\n",
    "        for label in item['labels']:\n",
    "            if 'box2d' not in label:\n",
    "                continue\n",
    "            category = label['category']\n",
    "            if category not in class_map:\n",
    "                continue\n",
    "\n",
    "            box = label['box2d']\n",
    "            x1, y1, x2, y2 = box['x1'], box['y1'], box['x2'], box['y2']\n",
    "\n",
    "            x_center = (x1 + x2) / 2 / w\n",
    "            y_center = (y1 + y2) / 2 / h\n",
    "            bbox_width = (x2 - x1) / w\n",
    "            bbox_height = (y2 - y1) / h\n",
    "\n",
    "            class_id = class_map[category]\n",
    "            lines.append(f\"{class_id} {x_center} {y_center} {bbox_width} {bbox_height}\")\n",
    "\n",
    "        # Write annotation .txt file\n",
    "        label_path = os.path.join(label_dir, img_name.replace('.jpg', '.txt'))\n",
    "        with open(label_path, 'w') as f:\n",
    "            f.write('\\n'.join(lines))\n"
   ]
  },
  {
   "cell_type": "code",
   "execution_count": 5,
   "id": "f65a1857",
   "metadata": {},
   "outputs": [],
   "source": [
    "for split, paths in dataset.items():\n",
    "    convert_and_save(paths['json_path'], paths['img_dir'], paths['label_dir'])"
   ]
  },
  {
   "cell_type": "code",
   "execution_count": null,
   "id": "9e6fd67a",
   "metadata": {},
   "outputs": [],
   "source": []
  }
 ],
 "metadata": {
  "kernelspec": {
   "display_name": ".venv",
   "language": "python",
   "name": "python3"
  },
  "language_info": {
   "codemirror_mode": {
    "name": "ipython",
    "version": 3
   },
   "file_extension": ".py",
   "mimetype": "text/x-python",
   "name": "python",
   "nbconvert_exporter": "python",
   "pygments_lexer": "ipython3",
   "version": "3.9.6"
  }
 },
 "nbformat": 4,
 "nbformat_minor": 5
}
